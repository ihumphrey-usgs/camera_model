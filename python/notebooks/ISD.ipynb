{
 "cells": [
  {
   "cell_type": "code",
   "execution_count": 148,
   "metadata": {
    "collapsed": false
   },
   "outputs": [],
   "source": [
    "import json\n",
    "import math\n",
    "\n",
    "import numpy as np\n",
    "import pvl\n",
    "import spiceypy as spice"
   ]
  },
  {
   "cell_type": "code",
   "execution_count": 149,
   "metadata": {
    "collapsed": true
   },
   "outputs": [],
   "source": [
    "# Utility Func\n",
    "def find_in_dict(obj, key):\n",
    "    \"\"\"\n",
    "    Recursively find an entry in a dictionary\n",
    "\n",
    "    Parameters\n",
    "    ----------\n",
    "    obj : dict\n",
    "          The dictionary to search\n",
    "    key : str\n",
    "          The key to find in the dictionary\n",
    "\n",
    "    Returns\n",
    "    -------\n",
    "    item : obj\n",
    "           The value from the dictionary\n",
    "    \"\"\"\n",
    "    if key in obj:\n",
    "        return obj[key]\n",
    "    for k, v in obj.items():\n",
    "        if isinstance(v,dict):\n",
    "            item = find_in_dict(v, key)\n",
    "            if item is not None:\n",
    "                return item"
   ]
  },
  {
   "cell_type": "code",
   "execution_count": 150,
   "metadata": {
    "collapsed": false
   },
   "outputs": [],
   "source": [
    "# Furnish the IK Kernel\n",
    "# spice.furnsh(\"../../tests/data/msgr_mdis_v160.ti\")\n",
    "# ikid = 236820\n",
    "\n",
    "# spice.furnsh('../../tests/data/msgr_v231.tf')  # Frames Kernel mapping between frames\n",
    "# spice.furnsh('../../tests/data/pck00010_msgr_v23.tpc')  # PC Kernel with planetary attitude and body information\n",
    "# spice.furnsh('../../tests/data/msgr_dyn_v600.tf')\n",
    "\n",
    "# spice.furnsh('../../tests/data/msgr_de405_de423s.bsp')\n",
    "# spice.furnsh('../../tests/data/msgr_040803_150430_150430_od431sc_2.bsp')\n",
    "\n",
    "# spice.furnsh('../../tests/data/msgr_mdis_sc050727_100302_sub_v1.bc')\n",
    "# spice.furnsh('../../tests/data/msgr_mdis_gm040819_150430v1.bc')  # MDIS Instrument Pointing (236890)\n",
    "# spice.furnsh('../../tests/data/msgr_1304_v02.bc')  #Bus and Spacecraft Panels position\n",
    "\n",
    "# spice.furnsh('../../tests/data/naif0011.tls')\n",
    "# spice.furnsh('../../tests/data/messenger_2548.tsc')\n",
    "\n",
    "ikid = 236800\n",
    "msgr = \"/usgs/cpkgs/isis3/data/messenger/\"\n",
    "spice.furnsh(\"/usgs/cpkgs/isis3/data/base/kernels/lsk/naif0012.tls\")\n",
    "spice.furnsh(msgr+\"kernels/pck/pck00010_msgr_v23.tpc\")\n",
    "spice.furnsh(msgr+\"kernels/tspk/de423s.bsp\")\n",
    "spice.furnsh(msgr+\"kernels/ck/msgr20150409.bc\")\n",
    "spice.furnsh(msgr+\"kernels/ck/msgr20150410.bc\")\n",
    "spice.furnsh(msgr+\"kernels/ck/msgr20150411.bc\")\n",
    "spice.furnsh(msgr+\"kernels/ck/msgr20150412.bc\")\n",
    "spice.furnsh(msgr+\"kernels/ck/msgr20150413.bc\")\n",
    "spice.furnsh(msgr+\"kernels/ck/msgr20150414.bc\")\n",
    "spice.furnsh(msgr+\"kernels/ck/msgr20150415.bc\")\n",
    "spice.furnsh(msgr+\"kernels/ck/msgr20150416.bc\")\n",
    "spice.furnsh(msgr+\"kernels/ck/1072683119_1965_mdis_atthist.bc\")\n",
    "spice.furnsh(msgr+\"kernels/ck/1072716050_291010_mdis_pivot_pvtres.bc\")\n",
    "spice.furnsh(msgr+\"kernels/fk/msgr_v231.tf\")\n",
    "spice.furnsh(msgr+\"kernels/ik/msgr_mdis_v160.ti\")\n",
    "spice.furnsh(msgr+\"kernels/sclk/messenger_2548.tsc\")\n",
    "spice.furnsh(msgr+\"kernels/spk/msgr_20040803_20150430_od431sc_2.bsp\")\n",
    "spice.furnsh(msgr+\"kernels/iak/mdisAddendum009.ti\")"
   ]
  },
  {
   "cell_type": "raw",
   "metadata": {
    "collapsed": false
   },
   "source": [
    "res = spice.ckobj('tests/data/msgr_mdis_sc050727_100302_sub_v1.bc')\n",
    "for i in res:\n",
    "    print(i)\n",
    "print()\n",
    "\n",
    "res = spice.ckobj('tests/data/msgr_mdis_gm040819_150430v1.bc')\n",
    "for i in res:\n",
    "    print(i)\n",
    "print()  \n",
    "    \n",
    "res = spice.ckobj('tests/data//msgr_1304_v02.bc')\n",
    "for i in res:\n",
    "    print(i)"
   ]
  },
  {
   "cell_type": "raw",
   "metadata": {
    "collapsed": false
   },
   "source": [
    "spice.bodn2c('MESSENGER')"
   ]
  },
  {
   "cell_type": "code",
   "execution_count": 151,
   "metadata": {
    "collapsed": false
   },
   "outputs": [],
   "source": [
    "# Create the ISD object\n",
    "isd = {}\n",
    "\n",
    "# Load information from the IK kernel\n",
    "isd['focal_length'] = spice.gdpool('INS-{}_FOCAL_LENGTH'.format(ikid), 0, 1)\n",
    "isd['focal_length_epsilon'] = spice.gdpool('INS-{}_FL_UNCERTAINTY'.format(ikid), 0, 1)\n",
    "isd['nlines'] = spice.gipool('INS-{}_PIXEL_LINES'.format(ikid), 0, 1)\n",
    "isd['nsamples'] = spice.gipool('INS-{}_PIXEL_SAMPLES'.format(ikid), 0, 1)\n",
    "isd['original_half_lines'] = isd['nlines'] / 2.0\n",
    "isd['original_half_samples'] = isd['nsamples'] / 2.0\n",
    "isd['pixel_pitch'] = spice.gdpool('INS-{}_PIXEL_PITCH'.format(ikid), 0, 1)\n",
    "isd['ccd_center'] = spice.gdpool('INS-{}_CCD_CENTER'.format(ikid), 0, 1)\n",
    "isd['ifov'] = spice.gdpool('INS-{}_IFOV'.format(ikid), 0, 1)\n",
    "isd['boresight'] = spice.gdpool('INS-{}_BORESIGHT'.format(ikid), 0, 3)\n",
    "isd['transx'] = spice.gdpool('INS-{}_TRANSX'.format(ikid), 0, 3)\n",
    "isd['transy'] = spice.gdpool('INS-{}_TRANSY'.format(ikid), 0, 3)\n",
    "isd['itrans_sample'] = spice.gdpool('INS-{}_ITRANSS'.format(ikid), 0, 3)\n",
    "isd['itrans_line'] = spice.gdpool('INS-{}_ITRANSL'.format(ikid), 0, 3)\n",
    "isd['odt_x'] = spice.gdpool('INS-{}_OD_T_X'.format(ikid), 0, 10)\n",
    "isd['odt_y'] = spice.gdpool('INS-{}_OD_T_Y'.format(ikid), 0, 10)\n",
    "isd['starting_detector_sample'] = spice.gdpool('INS-{}_FPUBIN_START_SAMPLE'.format(ikid), 0, 1)\n",
    "isd['starting_detector_line'] = spice.gdpool('INS-{}_FPUBIN_START_LINE'.format(ikid), 0, 1)\n"
   ]
  },
  {
   "cell_type": "markdown",
   "metadata": {},
   "source": [
    "What is the minimum information needed to convert to and from the MDIS-NAC frame?\n",
    "\n",
    "236: The code for the messenger spacecraft\n",
    "4: Indicates that the frame is a TK Frame\n",
    "236820: The code for the MDIS-NAC Frame\n"
   ]
  },
  {
   "cell_type": "code",
   "execution_count": 152,
   "metadata": {
    "collapsed": false
   },
   "outputs": [
    {
     "name": "stdout",
     "output_type": "stream",
     "text": [
      "(-236, 4, -236820)\n",
      "(-236, 4, -236802)\n",
      "-236\n"
     ]
    }
   ],
   "source": [
    "# Type 4 is TK - the mdis-nac is constant w.r.t. another frame\n",
    "print(spice.frinfo(-236820))\n",
    "print(spice.frinfo(-236802))\n",
    "\n",
    "# Verify that this is messenger\n",
    "print(spice.bods2c('MESSENGER'))"
   ]
  },
  {
   "cell_type": "code",
   "execution_count": 153,
   "metadata": {
    "collapsed": false
   },
   "outputs": [],
   "source": [
    "# Load the ISIS Cube header\n",
    "#header = pvl.load('../../tests/data/EN1007907102M.cub')\n",
    "header = pvl.load(\"../../tests/data/CW1071364100B_IU_5.cub\")\n",
    "\n",
    "isd['instrument_id'] = find_in_dict(header, 'InstrumentId')\n",
    "isd['spacecraft_name'] = find_in_dict(header, 'SpacecraftName')\n",
    "isd['target_name'] = find_in_dict(header, 'TargetName')\n",
    "\n",
    "# Get the radii from SPICE\n",
    "rad = spice.bodvrd(isd['target_name'], 'RADII', 3)\n",
    "radii = rad[1]\n",
    "isd['semi_major_axis'] = rad[1][0]\n",
    "isd['semi_minor_axis'] = rad[1][1]\n"
   ]
  },
  {
   "cell_type": "raw",
   "metadata": {},
   "source": [
    "print(isd['semi_major_axis'])\n",
    "print(isd['semi_minor_axis'])"
   ]
  },
  {
   "cell_type": "markdown",
   "metadata": {},
   "source": [
    "Now we need to compute time."
   ]
  },
  {
   "cell_type": "code",
   "execution_count": 167,
   "metadata": {
    "collapsed": false
   },
   "outputs": [
    {
     "name": "stdout",
     "output_type": "stream",
     "text": [
      "-236\n",
      "482312178.15084046\n",
      "482312178.16084045\n"
     ]
    }
   ],
   "source": [
    "# Here convert the sclock\n",
    "sclock = find_in_dict(header, 'SpacecraftClockCount')\n",
    "exposure_duration = find_in_dict(header, 'ExposureDuration')\n",
    "exposure_duration = exposure_duration.value * 0.001  # Scale to seconds\n",
    "\n",
    "# Get the instrument id, and, since this is a framer, set the time to the middle of the exposure\n",
    "spacecraft_id = spice.bods2c('MESSENGER')\n",
    "print(spacecraft_id)\n",
    "et = spice.scs2e(spacecraft_id, sclock)\n",
    "print(et)\n",
    "et += (exposure_duration / 2.0)\n",
    "\n",
    "isd['ephemeris_time'] = 482312178.161\n",
    "print(et)"
   ]
  },
  {
   "cell_type": "code",
   "execution_count": 169,
   "metadata": {
    "collapsed": false,
    "scrolled": false
   },
   "outputs": [
    {
     "name": "stdout",
     "output_type": "stream",
     "text": [
      "[   28889.98086492   633882.71602422  2683307.06317541]\n"
     ]
    }
   ],
   "source": [
    "# This needs to be sensor origin - like the comment below says...\n",
    "# This is almost there - position w.r.t. the spacecraft, but not the camera yet.\n",
    "loc, ltc = spice.spkpos('MESSENGER', isd['ephemeris_time'], 'IAU_MERCURY', 'LT+S', isd['target_name'])\n",
    "loc *= 1000\n",
    "print(loc)\n",
    "isd['x_sensor_origin'] = loc[0]\n",
    "isd['y_sensor_origin'] = loc[1]\n",
    "isd['z_sensor_origin'] = loc[2]"
   ]
  },
  {
   "cell_type": "raw",
   "metadata": {},
   "source": [
    "print(isd['x_sensor_origin'])\n",
    "print(isd['y_sensor_origin'])\n",
    "print(isd['z_sensor_origin'])"
   ]
  },
  {
   "cell_type": "code",
   "execution_count": 156,
   "metadata": {
    "collapsed": false
   },
   "outputs": [],
   "source": [
    "camera2bodyfixed = spice.pxform('MSGR_MDIS_WAC','IAU_MERCURY', isd['ephemeris_time'])\n",
    "opk = spice.m2eul(camera2bodyfixed, 3, 2, 1)\n",
    "\n",
    "isd['omega'] = opk[2]\n",
    "isd['phi'] = opk[1]\n",
    "isd['kappa'] = opk[0]"
   ]
  },
  {
   "cell_type": "code",
   "execution_count": 157,
   "metadata": {
    "collapsed": false
   },
   "outputs": [
    {
     "data": {
      "text/plain": [
       "array([[-0.95210748, -0.00279567, -0.30575075],\n",
       "       [ 0.06553629,  0.97485318, -0.21299361],\n",
       "       [ 0.29865755, -0.22283058, -0.92798179]])"
      ]
     },
     "execution_count": 157,
     "metadata": {},
     "output_type": "execute_result"
    }
   ],
   "source": [
    "camera2bodyfixed"
   ]
  },
  {
   "cell_type": "code",
   "execution_count": 158,
   "metadata": {
    "collapsed": false
   },
   "outputs": [
    {
     "name": "stdout",
     "output_type": "stream",
     "text": [
      "2.905930549960423 0.3032856983573016 -3.072868188822314\n"
     ]
    }
   ],
   "source": [
    "print(isd['omega'], isd['phi'], isd['kappa'])"
   ]
  },
  {
   "cell_type": "code",
   "execution_count": 159,
   "metadata": {
    "collapsed": false
   },
   "outputs": [],
   "source": [
    "class NumpyAwareJSONEncoder(json.JSONEncoder):\n",
    "    def default(self, obj):\n",
    "        if isinstance(obj, np.ndarray) and obj.ndim == 1:\n",
    "            lobj = obj.tolist()\n",
    "            if len(lobj) == 1:\n",
    "                return lobj[0]\n",
    "            else:\n",
    "                return lobj\n",
    "        return json.JSONEncoder.default(self, obj)\n",
    "\n",
    "with open('isd.isd', 'w') as f:\n",
    "    f.write(json.dumps(isd, f, cls=NumpyAwareJSONEncoder))"
   ]
  },
  {
   "cell_type": "code",
   "execution_count": 160,
   "metadata": {
    "collapsed": false
   },
   "outputs": [
    {
     "name": "stdout",
     "output_type": "stream",
     "text": [
      "{\"transy\": [0.0, 1.32495711261385e-07, 0.013997772676294], \"focal_length\": 78.2367, \"omega\": 2.905930549960423, \"focal_length_epsilon\": 0.15, \"transx\": [0.0, 0.01399999999972, 0.0], \"starting_detector_sample\": 9.0, \"original_half_lines\": 512.0, \"z_sensor_origin\": 2683307.06317541, \"semi_major_axis\": 2439.4, \"semi_minor_axis\": 2439.4, \"ephemeris_time\": 482312178.161, \"x_sensor_origin\": 28889.980864917787, \"original_half_samples\": 512.0, \"nlines\": 1024, \"odt_x\": [0.0, 1.0, 0.0, -7.720894252056575e-05, 3.599871902138938e-06, 0.0, 5.509035727272325e-06, 0.0, 5.509035727272406e-06, 0.0], \"nsamples\": 1024, \"kappa\": -3.072868188822314, \"instrument_id\": \"MDIS-WAC\", \"pixel_pitch\": 0.014, \"odt_y\": [0.0, 0.0, 1.000000000026148, 0.0, -7.720894252092194e-05, 3.599871782473616e-06, 0.0, 5.509035621941527e-06, 0.0, 5.5090308738198125e-06], \"ifov\": 179.6, \"starting_detector_line\": 1.0, \"y_sensor_origin\": 633882.716024222, \"spacecraft_name\": \"Messenger\", \"ccd_center\": 512.5, \"target_name\": \"Mercury\", \"phi\": 0.3032856983573016, \"boresight\": [0.0, 0.0, 1.0], \"itrans_line\": [0.0, -0.0006761060916520159, 71.4399371332522], \"itrans_sample\": [0.0, 71.42857143, 0.0]}"
     ]
    }
   ],
   "source": [
    "!cat isd.isd"
   ]
  },
  {
   "cell_type": "code",
   "execution_count": 161,
   "metadata": {
    "collapsed": false
   },
   "outputs": [],
   "source": [
    "# This is hard coded in Anne's script\n",
    "isisFocalPlan2SocetPlate = np.eye(3)\n",
    "isisFocalPlan2SocetPlate[1,1] = -1.0\n",
    "isisFocalPlan2SocetPlate[2,2] = -1.0\n",
    "\n",
    "# Grab the body fixed coordinates from SPICE\n",
    "\n",
    "# The mercury Naif ID code is 199\n",
    "nid = 199\n"
   ]
  },
  {
   "cell_type": "code",
   "execution_count": 162,
   "metadata": {
    "collapsed": false
   },
   "outputs": [
    {
     "ename": "SyntaxError",
     "evalue": "invalid syntax (<ipython-input-162-69367ee46c92>, line 2)",
     "output_type": "error",
     "traceback": [
      "\u001b[1;36m  File \u001b[1;32m\"<ipython-input-162-69367ee46c92>\"\u001b[1;36m, line \u001b[1;32m2\u001b[0m\n\u001b[1;33m    isd['x_sensor_origin'] =\u001b[0m\n\u001b[1;37m                             ^\u001b[0m\n\u001b[1;31mSyntaxError\u001b[0m\u001b[1;31m:\u001b[0m invalid syntax\n"
     ]
    }
   ],
   "source": [
    "# OPK\n",
    "isd['x_sensor_origin'] = \n",
    "isd['y_sensor_origin'] = \n",
    "isd['z_sensor_origin'] = \n",
    "isd['omega'] = \n",
    "isd['phi'] =\n",
    "isd['kappa'] = "
   ]
  },
  {
   "cell_type": "code",
   "execution_count": null,
   "metadata": {
    "collapsed": true
   },
   "outputs": [],
   "source": [
    "# ISD Search Information - totally fabricated.\n",
    "isd['min_elevation'] = -1.0\n",
    "isd['max_elevation'] = 1.0"
   ]
  },
  {
   "cell_type": "code",
   "execution_count": null,
   "metadata": {
    "collapsed": true
   },
   "outputs": [],
   "source": []
  },
  {
   "cell_type": "code",
   "execution_count": null,
   "metadata": {
    "collapsed": false
   },
   "outputs": [],
   "source": [
    "isd"
   ]
  },
  {
   "cell_type": "code",
   "execution_count": null,
   "metadata": {
    "collapsed": true
   },
   "outputs": [],
   "source": []
  },
  {
   "cell_type": "code",
   "execution_count": null,
   "metadata": {
    "collapsed": false
   },
   "outputs": [],
   "source": [
    "# Get the sun's position relative to a Mercury-fixed frame.\n",
    "target = \"SUN\"\n",
    "et = isd['ephemeris_time']\n",
    "reference_frame = \"IAU_MERCURY\"\n",
    "light_time_correction = \"LT+S\"\n",
    "observer = \"MERCURY\"\n",
    "\n",
    "sun_state, lt = spice.spkezr(target, et, reference_frame, light_time_correction, observer)\n",
    "isd['x_sun_position'] = sun_state[0] * 1000\n",
    "isd['y_sun_position'] = sun_state[1] * 1000\n",
    "isd['z_sun_position'] = sun_state[2] * 1000\n",
    "print(\"SUN POSITION (m): {} {} {}\".format(sun_state[0]*1000, sun_state[1]*1000, sun_state[2]*1000))\n",
    "\n",
    "# Get velocity of mdis nac (right now it is getting velocity of spacecraft, not sensor)\n",
    "target = \"MESSENGER\"\n",
    "et = isd['ephemeris_time']\n",
    "reference_frame = \"IAU_MERCURY\"\n",
    "light_time_correction = \"LT+S\"\n",
    "observer = \"MERCURY\"\n",
    "messenger_state, lt = spice.spkezr(target, et, reference_frame, light_time_correction, observer)\n",
    "print(\"MESSENGER VELOCITY (m/s): {} {} {}\".format(messenger_state[3]*1000, messenger_state[4]*1000, messenger_state[5]*1000))"
   ]
  },
  {
   "cell_type": "code",
   "execution_count": null,
   "metadata": {
    "collapsed": true
   },
   "outputs": [],
   "source": []
  }
 ],
 "metadata": {
  "kernelspec": {
   "display_name": "Python 3",
   "language": "python",
   "name": "python3"
  },
  "language_info": {
   "codemirror_mode": {
    "name": "ipython",
    "version": 3
   },
   "file_extension": ".py",
   "mimetype": "text/x-python",
   "name": "python",
   "nbconvert_exporter": "python",
   "pygments_lexer": "ipython3",
   "version": "3.4.3"
  }
 },
 "nbformat": 4,
 "nbformat_minor": 1
}
